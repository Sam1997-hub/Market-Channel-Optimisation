{
 "cells": [
  {
   "cell_type": "code",
   "execution_count": 16,
   "id": "d04ea637-4d04-4365-b518-3ad588328cce",
   "metadata": {},
   "outputs": [],
   "source": [
    "import pandas as pd\n",
    "import numpy as np\n",
    "import matplotlib.pyplot as plt\n",
    "import seaborn as sns"
   ]
  },
  {
   "cell_type": "code",
   "execution_count": 2,
   "id": "30ed632f-e619-490e-ade9-28d600d410e3",
   "metadata": {},
   "outputs": [],
   "source": [
    "df=pd.read_csv('customer_acquisition_data.csv')"
   ]
  },
  {
   "cell_type": "code",
   "execution_count": 3,
   "id": "a0eb3fca-c5c0-4360-adc9-7cbafbf5dbbd",
   "metadata": {},
   "outputs": [
    {
     "data": {
      "text/html": [
       "<div>\n",
       "<style scoped>\n",
       "    .dataframe tbody tr th:only-of-type {\n",
       "        vertical-align: middle;\n",
       "    }\n",
       "\n",
       "    .dataframe tbody tr th {\n",
       "        vertical-align: top;\n",
       "    }\n",
       "\n",
       "    .dataframe thead th {\n",
       "        text-align: right;\n",
       "    }\n",
       "</style>\n",
       "<table border=\"1\" class=\"dataframe\">\n",
       "  <thead>\n",
       "    <tr style=\"text-align: right;\">\n",
       "      <th></th>\n",
       "      <th>customer_id</th>\n",
       "      <th>channel</th>\n",
       "      <th>cost</th>\n",
       "      <th>conversion_rate</th>\n",
       "      <th>revenue</th>\n",
       "    </tr>\n",
       "  </thead>\n",
       "  <tbody>\n",
       "    <tr>\n",
       "      <th>0</th>\n",
       "      <td>1</td>\n",
       "      <td>referral</td>\n",
       "      <td>8.320327</td>\n",
       "      <td>0.123145</td>\n",
       "      <td>4199</td>\n",
       "    </tr>\n",
       "    <tr>\n",
       "      <th>1</th>\n",
       "      <td>2</td>\n",
       "      <td>paid advertising</td>\n",
       "      <td>30.450327</td>\n",
       "      <td>0.016341</td>\n",
       "      <td>3410</td>\n",
       "    </tr>\n",
       "    <tr>\n",
       "      <th>2</th>\n",
       "      <td>3</td>\n",
       "      <td>email marketing</td>\n",
       "      <td>5.246263</td>\n",
       "      <td>0.043822</td>\n",
       "      <td>3164</td>\n",
       "    </tr>\n",
       "    <tr>\n",
       "      <th>3</th>\n",
       "      <td>4</td>\n",
       "      <td>social media</td>\n",
       "      <td>9.546326</td>\n",
       "      <td>0.167592</td>\n",
       "      <td>1520</td>\n",
       "    </tr>\n",
       "    <tr>\n",
       "      <th>4</th>\n",
       "      <td>5</td>\n",
       "      <td>referral</td>\n",
       "      <td>8.320327</td>\n",
       "      <td>0.123145</td>\n",
       "      <td>2419</td>\n",
       "    </tr>\n",
       "  </tbody>\n",
       "</table>\n",
       "</div>"
      ],
      "text/plain": [
       "   customer_id           channel       cost  conversion_rate  revenue\n",
       "0            1          referral   8.320327         0.123145     4199\n",
       "1            2  paid advertising  30.450327         0.016341     3410\n",
       "2            3   email marketing   5.246263         0.043822     3164\n",
       "3            4      social media   9.546326         0.167592     1520\n",
       "4            5          referral   8.320327         0.123145     2419"
      ]
     },
     "execution_count": 3,
     "metadata": {},
     "output_type": "execute_result"
    }
   ],
   "source": [
    "df.head()"
   ]
  },
  {
   "cell_type": "code",
   "execution_count": 4,
   "id": "e049670e-4d47-479f-9b97-e6b1af12d88d",
   "metadata": {},
   "outputs": [
    {
     "data": {
      "text/plain": [
       "array(['referral', 'paid advertising', 'email marketing', 'social media'],\n",
       "      dtype=object)"
      ]
     },
     "execution_count": 4,
     "metadata": {},
     "output_type": "execute_result"
    }
   ],
   "source": [
    "df['channel'].unique()"
   ]
  },
  {
   "cell_type": "code",
   "execution_count": 7,
   "id": "a5194ec7-0c08-423d-a14f-ae4661b8eec8",
   "metadata": {},
   "outputs": [
    {
     "data": {
      "text/plain": [
       "customer_id        0\n",
       "channel            0\n",
       "cost               0\n",
       "conversion_rate    0\n",
       "revenue            0\n",
       "dtype: int64"
      ]
     },
     "execution_count": 7,
     "metadata": {},
     "output_type": "execute_result"
    }
   ],
   "source": [
    "df.isnull().sum()"
   ]
  },
  {
   "cell_type": "code",
   "execution_count": 8,
   "id": "992eb885-fb77-41dd-acc3-b89d6573bf4a",
   "metadata": {},
   "outputs": [
    {
     "data": {
      "text/html": [
       "<div>\n",
       "<style scoped>\n",
       "    .dataframe tbody tr th:only-of-type {\n",
       "        vertical-align: middle;\n",
       "    }\n",
       "\n",
       "    .dataframe tbody tr th {\n",
       "        vertical-align: top;\n",
       "    }\n",
       "\n",
       "    .dataframe thead th {\n",
       "        text-align: right;\n",
       "    }\n",
       "</style>\n",
       "<table border=\"1\" class=\"dataframe\">\n",
       "  <thead>\n",
       "    <tr style=\"text-align: right;\">\n",
       "      <th></th>\n",
       "      <th>channel</th>\n",
       "      <th>average_conversion_rate</th>\n",
       "    </tr>\n",
       "  </thead>\n",
       "  <tbody>\n",
       "    <tr>\n",
       "      <th>0</th>\n",
       "      <td>email marketing</td>\n",
       "      <td>0.043822</td>\n",
       "    </tr>\n",
       "    <tr>\n",
       "      <th>1</th>\n",
       "      <td>paid advertising</td>\n",
       "      <td>0.016341</td>\n",
       "    </tr>\n",
       "    <tr>\n",
       "      <th>2</th>\n",
       "      <td>referral</td>\n",
       "      <td>0.123145</td>\n",
       "    </tr>\n",
       "    <tr>\n",
       "      <th>3</th>\n",
       "      <td>social media</td>\n",
       "      <td>0.167592</td>\n",
       "    </tr>\n",
       "  </tbody>\n",
       "</table>\n",
       "</div>"
      ],
      "text/plain": [
       "            channel  average_conversion_rate\n",
       "0   email marketing                 0.043822\n",
       "1  paid advertising                 0.016341\n",
       "2          referral                 0.123145\n",
       "3      social media                 0.167592"
      ]
     },
     "execution_count": 8,
     "metadata": {},
     "output_type": "execute_result"
    }
   ],
   "source": [
    "df.groupby('channel').agg(average_conversion_rate=('conversion_rate',lambda x :x.mean())).reset_index()"
   ]
  },
  {
   "cell_type": "code",
   "execution_count": 11,
   "id": "dc63d6ad-c415-4656-ae38-f749ffa5d1b8",
   "metadata": {},
   "outputs": [],
   "source": [
    "df['expected_revenue_per_customer']=round(df['conversion_rate']*df['revenue'],2)"
   ]
  },
  {
   "cell_type": "code",
   "execution_count": 13,
   "id": "5e905971-b69d-4994-8545-d34655daa6ac",
   "metadata": {},
   "outputs": [],
   "source": [
    "df['Profit/Loss']=df['expected_revenue_per_customer']-df['cost']"
   ]
  },
  {
   "cell_type": "code",
   "execution_count": 14,
   "id": "d32a1b31-8aaa-464a-a119-19427bf8e7bb",
   "metadata": {},
   "outputs": [],
   "source": [
    "df['ROI']=round(df['Profit/Loss']/df['cost'],2)*100"
   ]
  },
  {
   "cell_type": "code",
   "execution_count": 25,
   "id": "37327407-12d2-4874-9b31-47a3c40d53e4",
   "metadata": {},
   "outputs": [
    {
     "data": {
      "text/html": [
       "<div>\n",
       "<style scoped>\n",
       "    .dataframe tbody tr th:only-of-type {\n",
       "        vertical-align: middle;\n",
       "    }\n",
       "\n",
       "    .dataframe tbody tr th {\n",
       "        vertical-align: top;\n",
       "    }\n",
       "\n",
       "    .dataframe thead th {\n",
       "        text-align: right;\n",
       "    }\n",
       "</style>\n",
       "<table border=\"1\" class=\"dataframe\">\n",
       "  <thead>\n",
       "    <tr style=\"text-align: right;\">\n",
       "      <th></th>\n",
       "      <th>channel</th>\n",
       "      <th>cost</th>\n",
       "      <th>avg_cost</th>\n",
       "      <th>exp_rev</th>\n",
       "      <th>exp_rev_mean</th>\n",
       "      <th>returns</th>\n",
       "      <th>ROI</th>\n",
       "    </tr>\n",
       "  </thead>\n",
       "  <tbody>\n",
       "    <tr>\n",
       "      <th>0</th>\n",
       "      <td>email marketing</td>\n",
       "      <td>1122.700340</td>\n",
       "      <td>5.246263</td>\n",
       "      <td>26499.57</td>\n",
       "      <td>123.829766</td>\n",
       "      <td>25376.869660</td>\n",
       "      <td>2260.327103</td>\n",
       "    </tr>\n",
       "    <tr>\n",
       "      <th>1</th>\n",
       "      <td>paid advertising</td>\n",
       "      <td>5907.363479</td>\n",
       "      <td>30.450327</td>\n",
       "      <td>8961.59</td>\n",
       "      <td>46.193763</td>\n",
       "      <td>3054.226521</td>\n",
       "      <td>51.654639</td>\n",
       "    </tr>\n",
       "    <tr>\n",
       "      <th>2</th>\n",
       "      <td>referral</td>\n",
       "      <td>1722.307634</td>\n",
       "      <td>8.320327</td>\n",
       "      <td>70137.45</td>\n",
       "      <td>338.828261</td>\n",
       "      <td>68415.142366</td>\n",
       "      <td>3972.328502</td>\n",
       "    </tr>\n",
       "    <tr>\n",
       "      <th>3</th>\n",
       "      <td>social media</td>\n",
       "      <td>1766.070249</td>\n",
       "      <td>9.546326</td>\n",
       "      <td>82567.14</td>\n",
       "      <td>446.308865</td>\n",
       "      <td>80801.069751</td>\n",
       "      <td>4575.210811</td>\n",
       "    </tr>\n",
       "  </tbody>\n",
       "</table>\n",
       "</div>"
      ],
      "text/plain": [
       "            channel         cost   avg_cost   exp_rev  exp_rev_mean  \\\n",
       "0   email marketing  1122.700340   5.246263  26499.57    123.829766   \n",
       "1  paid advertising  5907.363479  30.450327   8961.59     46.193763   \n",
       "2          referral  1722.307634   8.320327  70137.45    338.828261   \n",
       "3      social media  1766.070249   9.546326  82567.14    446.308865   \n",
       "\n",
       "        returns          ROI  \n",
       "0  25376.869660  2260.327103  \n",
       "1   3054.226521    51.654639  \n",
       "2  68415.142366  3972.328502  \n",
       "3  80801.069751  4575.210811  "
      ]
     },
     "execution_count": 25,
     "metadata": {},
     "output_type": "execute_result"
    }
   ],
   "source": [
    "df1=df.groupby('channel').agg(cost=('cost',lambda x : x.sum()),avg_cost=('cost','mean'),exp_rev=('expected_revenue_per_customer','sum'),exp_rev_mean=('expected_revenue_per_customer','mean'),returns=('Profit/Loss','sum'),ROI=('ROI','mean')).reset_index()\n",
    "df1"
   ]
  },
  {
   "cell_type": "code",
   "execution_count": 23,
   "id": "df583dd8-d235-41b1-a0bd-df4681f7aeee",
   "metadata": {},
   "outputs": [
    {
     "data": {
      "image/png": "[encoded data removed]",
      "text/plain": [
       "<Figure size 640x480 with 1 Axes>"
      ]
     },
     "metadata": {},
     "output_type": "display_data"
    },
    {
     "data": {
      "text/plain": [
       "<Figure size 500x500 with 0 Axes>"
      ]
     },
     "metadata": {},
     "output_type": "display_data"
    }
   ],
   "source": [
    "sns.barplot(df1,x='channel',y='ROI')\n",
    "plt.title('ROI comparison channel wise')\n",
    "plt.figure (figsize=(5,5))\n",
    "plt.show()"
   ]
  },
  {
   "cell_type": "code",
   "execution_count": null,
   "id": "76f52d18-e0eb-44c8-a979-d49a758cd7e9",
   "metadata": {},
   "outputs": [],
   "source": []
  }
 ],
 "metadata": {
  "kernelspec": {
   "display_name": "Python 3 (ipykernel)",
   "language": "python",
   "name": "python3"
  },
  "language_info": {
   "codemirror_mode": {
    "name": "ipython",
    "version": 3
   },
   "file_extension": ".py",
   "mimetype": "text/x-python",
   "name": "python",
   "nbconvert_exporter": "python",
   "pygments_lexer": "ipython3",
   "version": "3.12.4"
  }
 },
 "nbformat": 4,
 "nbformat_minor": 5
}
